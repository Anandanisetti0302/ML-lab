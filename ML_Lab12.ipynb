{
  "nbformat": 4,
  "nbformat_minor": 0,
  "metadata": {
    "colab": {
      "provenance": [],
      "include_colab_link": true
    },
    "kernelspec": {
      "name": "python3",
      "display_name": "Python 3"
    },
    "language_info": {
      "name": "python"
    }
  },
  "cells": [
    {
      "cell_type": "markdown",
      "metadata": {
        "id": "view-in-github",
        "colab_type": "text"
      },
      "source": [
        "<a href=\"https://colab.research.google.com/github/Anandanisetti0302/ML-lab/blob/main/ML_Lab12.ipynb\" target=\"_parent\"><img src=\"https://colab.research.google.com/assets/colab-badge.svg\" alt=\"Open In Colab\"/></a>"
      ]
    },
    {
      "cell_type": "markdown",
      "source": [
        "**Exploratory Data Analysis(EDA):**\n",
        "\n",
        "Exploratory Data Analysis (EDA) is a crucial initial step in data science projects. It involves analyzing and visualizing data to understand its key characteristics, uncover patterns, and identify relationships between variables refers to the method of studying and exploring record sets to apprehend their predominant traits, discover patterns, locate outliers, and identify relationships between variables. EDA is normally carried out as a preliminary step before undertaking extra formal statistical analyses or modeling."
      ],
      "metadata": {
        "id": "gtnAH2bSBCpA"
      }
    },
    {
      "cell_type": "markdown",
      "source": [
        "**Key aspects of EDA include:**\n",
        "\n",
        "**Distribution of Data:** Examining the distribution of data points to understand their range, central tendencies (mean, median), and dispersion (variance, standard deviation).\n",
        "\n",
        "**Graphical Representations:** Utilizing charts such as histograms, box plots, scatter plots, and bar charts to visualize relationships within the data and distributions of variables.\n",
        "\n",
        "**Outlier Detection:** Identifying unusual values that deviate from other data points. Outliers can influence statistical analyses and might indicate data entry errors or unique cases.\n",
        "\n",
        "**Correlation Analysis:** Checking the relationships between variables to understand how they might affect each other. This includes computing correlation coefficients and creating correlation matrices.\n",
        "\n",
        "**Handling Missing Values:** Detecting and deciding how to address missing data points, whether by imputation or removal, depending on their impact and the amount of missing data.\n",
        "\n",
        "**Summary Statistics:** Calculating key statistics that provide insight into data trends and nuances.\n",
        "\n",
        "**Testing Assumptions:** Many statistical tests and models assume the data meet certain conditions (like normality or homoscedasticity). EDA helps verify these assumptions"
      ],
      "metadata": {
        "id": "yae8mPQ2C39H"
      }
    },
    {
      "cell_type": "markdown",
      "source": [],
      "metadata": {
        "id": "i7sTpKv0DikY"
      }
    },
    {
      "cell_type": "markdown",
      "source": [
        "### **12. Exploratory Data Analysis for Classification using Pandas or Matplotlib.**"
      ],
      "metadata": {
        "id": "LBTCr1rIqh65"
      }
    },
    {
      "cell_type": "code",
      "source": [
        "import pandas as pd\n",
        "\n",
        "# Load the dataset\n",
        "data = pd.read_csv('/content/Lab12.csv')"
      ],
      "metadata": {
        "id": "ftfSRznOqrLQ"
      },
      "execution_count": 1,
      "outputs": []
    },
    {
      "cell_type": "code",
      "source": [
        "# Get summary statistics for numerical columns\n",
        "print(data.describe())\n"
      ],
      "metadata": {
        "colab": {
          "base_uri": "https://localhost:8080/"
        },
        "id": "Tch0U-5Tqq_Q",
        "outputId": "da95d0f1-ab00-47b9-c873-315b4b289535"
      },
      "execution_count": 2,
      "outputs": [
        {
          "output_type": "stream",
          "name": "stdout",
          "text": [
            "                  ID  CREDIT_SCORE  VEHICLE_OWNERSHIP       MARRIED  \\\n",
            "count   87053.000000  87052.000000       87052.000000  87052.000000   \n",
            "mean   394840.458043      0.602042           0.827839      0.584708   \n",
            "std    279762.852290      0.137898           0.377523      0.492775   \n",
            "min       101.000000      0.074401           0.000000      0.000000   \n",
            "25%    156372.000000      0.514795           1.000000      0.000000   \n",
            "50%    353869.000000      0.600928           1.000000      1.000000   \n",
            "75%    598655.000000      0.703002           1.000000      1.000000   \n",
            "max    999976.000000      0.954075           1.000000      1.000000   \n",
            "\n",
            "           CHILDREN   POSTAL_CODE  ANNUAL_MILEAGE  SPEEDING_VIOLATIONS  \\\n",
            "count  87052.000000  87052.000000    87052.000000         87052.000000   \n",
            "mean       0.519655  18039.044135    11056.069935             0.679157   \n",
            "std        0.499616  16729.976671     2976.493130             1.388328   \n",
            "min        0.000000  10238.000000     2000.000000             0.000000   \n",
            "25%        0.000000  10238.000000     9000.000000             0.000000   \n",
            "50%        1.000000  10238.000000    11000.000000             0.000000   \n",
            "75%        1.000000  22359.750000    13000.000000             1.000000   \n",
            "max        1.000000  92101.000000    21000.000000            20.000000   \n",
            "\n",
            "               DUIS  PAST_ACCIDENTS       OUTCOME  \n",
            "count  87052.000000    87052.000000  87052.000000  \n",
            "mean       0.129670        0.546409      0.422989  \n",
            "std        0.589745        1.397296      0.494036  \n",
            "min        0.000000        0.000000      0.000000  \n",
            "25%        0.000000        0.000000      0.000000  \n",
            "50%        0.000000        0.000000      0.000000  \n",
            "75%        0.000000        0.000000      1.000000  \n",
            "max        6.000000       15.000000      1.000000  \n"
          ]
        }
      ]
    },
    {
      "cell_type": "code",
      "source": [
        "# Display all column names in the dataset\n",
        "print(data.columns)\n"
      ],
      "metadata": {
        "colab": {
          "base_uri": "https://localhost:8080/"
        },
        "id": "j1ozNw7h8TaG",
        "outputId": "4132b500-431f-4574-df82-aa58cfc16d30"
      },
      "execution_count": 3,
      "outputs": [
        {
          "output_type": "stream",
          "name": "stdout",
          "text": [
            "Index(['ID', 'AGE', 'GENDER', 'DRIVING_EXPERIENCE', 'EDUCATION', 'INCOME',\n",
            "       'CREDIT_SCORE', 'VEHICLE_OWNERSHIP', 'VEHICLE_YEAR', 'MARRIED',\n",
            "       'CHILDREN', 'POSTAL_CODE', 'ANNUAL_MILEAGE', 'SPEEDING_VIOLATIONS',\n",
            "       'DUIS', 'PAST_ACCIDENTS', 'OUTCOME', 'TYPE_OF_VEHICLE'],\n",
            "      dtype='object')\n"
          ]
        }
      ]
    },
    {
      "cell_type": "code",
      "source": [
        "# Import necessary libraries\n",
        "import pandas as pd\n",
        "import matplotlib.pyplot as plt\n",
        "import seaborn as sns\n",
        "\n",
        "# Load the dataset\n",
        "data = pd.read_csv('/content/Lab12.csv')\n",
        "\n",
        "# Set a visual style for the plots\n",
        "sns.set(style=\"whitegrid\")\n",
        "\n",
        "# 1. Basic Information and Summary Statistics\n",
        "print(data.info())  # Overview of dataset structure\n",
        "print(data.describe())  # Summary statistics for numerical features\n",
        "print(data.head())  # Peek at the first few rows of the dataset\n"
      ],
      "metadata": {
        "id": "-tEOJSbWqqwI"
      },
      "execution_count": null,
      "outputs": []
    },
    {
      "cell_type": "code",
      "source": [
        "# Check for missing values\n",
        "print(data.isnull().sum())\n",
        "\n",
        "# If there are missing values, you can visualize them (optional)\n",
        "sns.heatmap(data.isnull(), cbar=False, cmap='viridis')\n",
        "plt.title('Missing Values in the Dataset')\n",
        "plt.show()\n"
      ],
      "metadata": {
        "id": "18zmgI-oBQrS"
      },
      "execution_count": null,
      "outputs": []
    },
    {
      "cell_type": "code",
      "source": [
        "# Summary of numerical features\n",
        "print(data.describe())\n",
        "\n",
        "# Plot histograms of numerical features\n",
        "data.hist(figsize=(15, 10), bins=30)\n",
        "plt.tight_layout()\n",
        "plt.show()\n"
      ],
      "metadata": {
        "id": "qMMzxdtgBdS_"
      },
      "execution_count": null,
      "outputs": []
    },
    {
      "cell_type": "code",
      "source": [
        "# 2. Plot the distribution of the target variable (OUTCOME)\n",
        "plt.figure(figsize=(8,6))\n",
        "sns.countplot(data=data, x='OUTCOME')\n",
        "plt.title('Distribution of Outcome (Target Variable)')\n",
        "plt.xlabel('Outcome (0 = No Claim, 1 = Claim)')\n",
        "plt.ylabel('Count')\n",
        "plt.show()"
      ],
      "metadata": {
        "id": "VYwdPBpCqqs6"
      },
      "execution_count": null,
      "outputs": []
    },
    {
      "cell_type": "code",
      "source": [
        "# Plot the distribution of age groups and outcome\n",
        "plt.figure(figsize=(10,6))\n",
        "sns.countplot(data=data, x='AGE', hue='OUTCOME')\n",
        "plt.title('Age Distribution by Outcome')\n",
        "plt.xlabel('Age Group')\n",
        "plt.ylabel('Count')\n",
        "plt.show()\n",
        "\n",
        "# Plot the distribution of vehicle types and outcome\n",
        "plt.figure(figsize=(10,6))\n",
        "sns.countplot(data=data, x='TYPE_OF_VEHICLE', hue='OUTCOME')\n",
        "plt.title('Vehicle Type by Outcome')\n",
        "plt.xlabel('Vehicle Type')\n",
        "plt.ylabel('Count')\n",
        "plt.show()\n",
        "\n",
        "# Plot distribution of gender and outcome\n",
        "plt.figure(figsize=(8,6))\n",
        "sns.countplot(data=data, x='GENDER', hue='OUTCOME')\n",
        "plt.title('Gender Distribution by Outcome')\n",
        "plt.xlabel('Gender')\n",
        "plt.ylabel('Count')\n",
        "plt.show()\n"
      ],
      "metadata": {
        "id": "RKc26CMRBu0i"
      },
      "execution_count": null,
      "outputs": []
    },
    {
      "cell_type": "code",
      "source": [
        "# Exclude non-numeric columns before calculating the correlation matrix\n",
        "numeric_data = data.select_dtypes(include=['float64', 'int64'])\n",
        "\n",
        "# 4. Analyze the correlation between numerical features\n",
        "plt.figure(figsize=(12,8))\n",
        "corr = numeric_data.corr()  # Compute correlation matrix only on numeric columns\n",
        "sns.heatmap(corr, annot=True, cmap=\"coolwarm\", fmt=\".2f\")\n",
        "plt.title('Correlation Heatmap of Numerical Features')\n",
        "plt.show()"
      ],
      "metadata": {
        "id": "XCHG4Bn7Acm3"
      },
      "execution_count": null,
      "outputs": []
    },
    {
      "cell_type": "code",
      "source": [
        "# 5. Relationship between Credit Score and Outcome\n",
        "plt.figure(figsize=(8,6))\n",
        "sns.histplot(data=data, x='CREDIT_SCORE', hue='OUTCOME', multiple=\"stack\", kde=True)\n",
        "plt.title('Credit Score Distribution by Outcome')\n",
        "plt.xlabel('Credit Score')\n",
        "plt.ylabel('Density')\n",
        "plt.show()"
      ],
      "metadata": {
        "id": "rMje9YSCAcpg"
      },
      "execution_count": null,
      "outputs": []
    },
    {
      "cell_type": "code",
      "source": [
        "# 6. Explore the distribution of vehicle types in relation to the outcome\n",
        "plt.figure(figsize=(10,6))\n",
        "sns.countplot(data=data, x='TYPE_OF_VEHICLE', hue='OUTCOME')\n",
        "plt.title('Vehicle Type vs Outcome')\n",
        "plt.xlabel('Type of Vehicle')\n",
        "plt.ylabel('Count')\n",
        "plt.show()\n"
      ],
      "metadata": {
        "id": "0xMbKIl6Acsi"
      },
      "execution_count": null,
      "outputs": []
    },
    {
      "cell_type": "code",
      "source": [
        "# Driving Experience vs Outcome\n",
        "plt.figure(figsize=(10,6))\n",
        "sns.countplot(data=data, x='DRIVING_EXPERIENCE', hue='OUTCOME')\n",
        "plt.title('Driving Experience vs Outcome')\n",
        "plt.xlabel('Driving Experience')\n",
        "plt.ylabel('Count')\n",
        "plt.show()"
      ],
      "metadata": {
        "id": "EDj0cNtxCKSB"
      },
      "execution_count": null,
      "outputs": []
    },
    {
      "cell_type": "code",
      "source": [
        "# 7. Analyze the relationship between Annual Mileage and Outcome\n",
        "plt.figure(figsize=(8,6))\n",
        "sns.boxplot(data=data, x='OUTCOME', y='ANNUAL_MILEAGE')\n",
        "plt.title('Annual Mileage vs Outcome')\n",
        "plt.xlabel('Outcome')\n",
        "plt.ylabel('Annual Mileage')\n",
        "plt.show()\n"
      ],
      "metadata": {
        "id": "SgBVcHJ7qqly"
      },
      "execution_count": null,
      "outputs": []
    }
  ]
}